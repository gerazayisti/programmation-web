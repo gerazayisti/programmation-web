{
  "nbformat": 4,
  "nbformat_minor": 0,
  "metadata": {
    "colab": {
      "provenance": [],
      "toc_visible": true,
      "mount_file_id": "1Lb4p4nqDzaUzVtT02QrdY0iOcSTsPSEB",
      "authorship_tag": "ABX9TyNzISjKvuWywztXIXV9WoFL",
      "include_colab_link": true
    },
    "kernelspec": {
      "name": "python3",
      "display_name": "Python 3"
    },
    "language_info": {
      "name": "python"
    }
  },
  "cells": [
    {
      "cell_type": "markdown",
      "metadata": {
        "id": "view-in-github",
        "colab_type": "text"
      },
      "source": [
        "<a href=\"https://colab.research.google.com/github/gerazayisti/programmation-web/blob/main/doctranslator.ipynb\" target=\"_parent\"><img src=\"https://colab.research.google.com/assets/colab-badge.svg\" alt=\"Open In Colab\"/></a>"
      ]
    },
    {
      "cell_type": "code",
      "source": [
        "from google.colab import drive\n",
        "drive.mount('/content/drive')"
      ],
      "metadata": {
        "colab": {
          "base_uri": "https://localhost:8080/"
        },
        "id": "ZUCoZEPSLdxX",
        "outputId": "373355fb-b29a-4942-ee72-15cd984326bd"
      },
      "execution_count": 4,
      "outputs": [
        {
          "output_type": "stream",
          "name": "stdout",
          "text": [
            "Drive already mounted at /content/drive; to attempt to forcibly remount, call drive.mount(\"/content/drive\", force_remount=True).\n"
          ]
        }
      ]
    },
    {
      "cell_type": "code",
      "source": [
        "!pip install PyPDF2"
      ],
      "metadata": {
        "colab": {
          "base_uri": "https://localhost:8080/"
        },
        "id": "JX07UKOAK0NR",
        "outputId": "a73ec457-36dc-4d10-d0c4-ee4a9a301807"
      },
      "execution_count": 2,
      "outputs": [
        {
          "output_type": "stream",
          "name": "stdout",
          "text": [
            "Collecting PyPDF2\n",
            "  Downloading pypdf2-3.0.1-py3-none-any.whl (232 kB)\n",
            "\u001b[2K     \u001b[90m━━━━━━━━━━━━━━━━━━━━━━━━━━━━━━━━━━━━━━━━\u001b[0m \u001b[32m232.6/232.6 kB\u001b[0m \u001b[31m2.3 MB/s\u001b[0m eta \u001b[36m0:00:00\u001b[0m\n",
            "\u001b[?25hInstalling collected packages: PyPDF2\n",
            "Successfully installed PyPDF2-3.0.1\n"
          ]
        }
      ]
    },
    {
      "cell_type": "code",
      "execution_count": null,
      "metadata": {
        "colab": {
          "base_uri": "https://localhost:8080/"
        },
        "id": "aEb2YO2JKhiM",
        "outputId": "11a3eb7b-df6d-42c7-8856-7d6fe843c2a1"
      },
      "outputs": [
        {
          "metadata": {
            "tags": null
          },
          "name": "stdout",
          "output_type": "stream",
          "text": [
            "Nombre total de pages: 2\n"
          ]
        }
      ],
      "source": [
        "import PyPDF2\n",
        "import os\n",
        "from google.cloud import translate\n",
        "\n",
        "def diviser_pdf(fichier_pdf):\n",
        "  \"\"\"\n",
        "  Divise un PDF en plusieurs fichiers selon le nombre de pages souhaité.\n",
        "\n",
        "  Args:\n",
        "      fichier_pdf (str): Le chemin d'accès au fichier PDF.\n",
        "      nb_pages (int): Le nombre de pages par fichier.\n",
        "\n",
        "  Returns:\n",
        "      None\n",
        "  \"\"\"\n",
        "  # Ouvre le fichier PDF et compte le nombre de pages\n",
        "  with open(fichier_pdf, 'rb') as f:\n",
        "      reader = PyPDF2.PdfReader(f)\n",
        "      nb_total_pages = len(reader.pages)\n",
        "\n",
        "  # Affiche le nombre de pages total et demande à l'utilisateur le nombre de pages par fichier\n",
        "  print(f\"Nombre total de pages: {nb_total_pages}\")\n",
        "  nb_pages = int(input(\"Entrez le nombre de pages par fichier: \"))\n",
        "\n",
        "  # Vérifie si le nombre de pages souhaité est valide\n",
        "  if nb_pages <= 0 or nb_pages > nb_total_pages:\n",
        "      raise ValueError(\"Le nombre de pages par fichier doit être positif et inférieur au nombre total de pages du PDF.\")\n",
        "\n",
        "  # Divise le PDF en plusieurs fichiers\n",
        "  for i in range(0, nb_total_pages, nb_pages):\n",
        "      nom_fichier = f\"{fichier_pdf[:-4]}_{i + 1}_{i + nb_pages}.pdf\"\n",
        "      écrivain = PyPDF2.PdfWriter()\n",
        "\n",
        "      for num_page in range(i, min(i + nb_pages, nb_total_pages)):\n",
        "          page = reader.pages[num_page]\n",
        "          écrivain.addPage(page)\n",
        "\n",
        "      with open(nom_fichier, 'wb') as f:\n",
        "          écrivain.write(f)\n",
        "\n",
        "def traduire_pdf(fichier_pdf, langue_source, langue_cible):\n",
        "  \"\"\"\n",
        "  Traduit un PDF en une autre langue en utilisant un modèle IA.\n",
        "\n",
        "  Args:\n",
        "      fichier_pdf (str): Le chemin d'accès au fichier PDF.\n",
        "      langue_source (str): La langue source du texte.\n",
        "      langue_cible (str): La langue cible du texte.\n",
        "\n",
        "  Returns:\n",
        "      None\n",
        "  \"\"\"\n",
        "  # Initialise le client Google Cloud Translate\n",
        "  client = translate.TranslationServiceClient()\n",
        "\n",
        "  # Ouvre le fichier PDF et extrait le texte\n",
        "  with open(fichier_pdf, 'rb') as f:\n",
        "      reader = PyPDF2.PdfReader(f)\n",
        "      texte = \"\"\n",
        "      for page in reader.pages:\n",
        "          texte += page.extract_text()\n",
        "\n",
        "  # Propose trois options de traduction à l'utilisateur\n",
        "  print(\"Langues de traduction disponibles:\")\n",
        "  print(\"1. Anglais\")\n",
        "  print(\"2. Français\")\n",
        "  print(\"3. Allemand\")\n",
        "  langue_cible = int(input(\"Entrez le numéro de la langue cible (1, 2 ou 3): \"))\n",
        "\n",
        "  # Détermine la langue cible selon le choix de l'utilisateur\n",
        "  if langue_cible == 1:\n",
        "      langue_cible = \"en\"\n",
        "  elif langue_cible == 2:\n",
        "      langue_cible = \"fr\"\n",
        "  elif langue_cible == 3:\n",
        "      langue_cible = \"de\"\n",
        "  else:\n",
        "      raise ValueError(\"Choix de langue invalide.\")\n",
        "\n",
        "  # Traduit le texte\n",
        "  translation = client.translate(texte, source_language=langue_source, target_language=langue_cible)\n",
        "\n",
        "  # Enregistre le texte traduit dans un nouveau fichier\n",
        "  nom_fichier = f\"{fichier_pdf[:-4]}_traduit_{langue_cible}.txt\"\n",
        "  with open(nom_fichier, 'w', encoding='utf-8') as f:\n",
        "      f.write(translation.translated_text)\n",
        "\n",
        "if __name__ == \"__main__\":\n",
        "  # Demande à l'utilisateur le chemin d'accès au fichier PDF\n",
        "  fichier_pdf = input(\"Entrez le chemin d'accès au fichier PDF: \")\n",
        "\n",
        "  # Divise le PDF\n",
        "  diviser_pdf(fichier_pdf)\n",
        "\n",
        "  # Traduit les fichiers PDF divisés\n",
        "  for nom_fichier in os.listdir():\n",
        "      if nom_fichier.endswith(\".pdf\"):\n",
        "          traduire_pdf(nom_fichier, langue_source=\"fr\", langue_cible=\"en\")  # Définir la langue source par défaut au français\n"
      ]
    }
  ]
}